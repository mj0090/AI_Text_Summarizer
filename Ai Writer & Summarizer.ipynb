{
 "cells": [
  {
   "cell_type": "code",
   "execution_count": 1,
   "id": "bcbdee66-1cc5-41e3-9f00-4f2994020d6f",
   "metadata": {},
   "outputs": [],
   "source": [
    "from transformers import pipeline\n",
    "import textstat\n",
    "import gradio as gr"
   ]
  },
  {
   "cell_type": "code",
   "execution_count": null,
   "id": "6b288655-34c1-490d-9a1c-2b08c2d91bd8",
   "metadata": {},
   "outputs": [],
   "source": [
    "# You can switch to 't5-small' or others if needed\n",
    "summarizer = pipeline(\"summarization\", model=\"facebook/bart-large-cnn\")"
   ]
  },
  {
   "cell_type": "code",
   "execution_count": 8,
   "id": "0bcb9bdb-8a98-4391-a69b-d5c778ed2542",
   "metadata": {},
   "outputs": [],
   "source": [
    "def summarize_article(text):\n",
    "    max_chunk = 1024\n",
    "    text = text.replace('\\n', ' ')\n",
    "    inputs = [text[i:i+max_chunk] for i in range(0, len(text), max_chunk)]\n",
    "\n",
    "    summary = ''\n",
    "    for chunk in inputs:\n",
    "        out = summarizer(chunk, max_length=150, min_length=40, do_sample=False)\n",
    "        summary += out[0]['summary_text'] + ' '\n",
    "    \n",
    "    summary = summary.strip()\n",
    "    \n",
    "    stats = {\n",
    "        \"Original Word Count\": len(text.split()),\n",
    "        \"Summary Word Count\": len(summary.split()),\n",
    "        \"Readability Score (Flesch)\": round(textstat.flesch_reading_ease(summary), 2)\n",
    "    }\n",
    "    return summary, stats\n"
   ]
  },
  {
   "cell_type": "code",
   "execution_count": null,
   "id": "b8881b35-833a-40fa-b409-378bab340258",
   "metadata": {},
   "outputs": [],
   "source": [
    "def gradio_interface(article_text):\n",
    "    summary, stats = summarize_article(article_text)\n",
    "    stats_text = f\"\"\"\n",
    "    - Original Word Count: {stats['Original Word Count']}\n",
    "    - Summary Word Count: {stats['Summary Word Count']}\n",
    "    - Readability Score: {stats['Readability Score (Flesch)']}\n",
    "    \"\"\"\n",
    "    return summary, stats_text\n",
    "\n",
    "demo = gr.Interface(\n",
    "    fn=gradio_interface,\n",
    "    inputs=gr.Textbox(lines=15, label=\"Paste your article here\"),\n",
    "    outputs=[\n",
    "        gr.Textbox(label=\"Generated Summary\"),\n",
    "        gr.Textbox(label=\"Summary Stats\")\n",
    "    ],\n",
    "    title=\"📝 AI Writer & Summarizer\",\n",
    "    description=\"Enter a long article, and this app will return a concise summary with readability metrics.\",\n",
    "    theme=\"default\"\n",
    ")\n",
    "\n",
    "demo.launch(inline=True, share=True)"
   ]
  }
 ],
 "metadata": {
  "kernelspec": {
   "display_name": "Python 3 (ipykernel)",
   "language": "python",
   "name": "python3"
  },
  "language_info": {
   "codemirror_mode": {
    "name": "ipython",
    "version": 3
   },
   "file_extension": ".py",
   "mimetype": "text/x-python",
   "name": "python",
   "nbconvert_exporter": "python",
   "pygments_lexer": "ipython3",
   "version": "3.12.7"
  }
 },
 "nbformat": 4,
 "nbformat_minor": 5
}
